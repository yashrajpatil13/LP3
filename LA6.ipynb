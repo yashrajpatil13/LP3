{
 "cells": [
  {
   "cell_type": "code",
   "execution_count": 2,
   "metadata": {},
   "outputs": [],
   "source": [
    "# Import necessary libraries\n",
    "import pandas as pd\n",
    "import numpy as np\n",
    "import matplotlib.pyplot as plt\n",
    "from sklearn.cluster import KMeans\n",
    "from sklearn.preprocessing import StandardScaler"
   ]
  },
  {
   "cell_type": "code",
   "execution_count": 3,
   "metadata": {},
   "outputs": [
    {
     "name": "stdout",
     "output_type": "stream",
     "text": [
      "   ORDERNUMBER  QUANTITYORDERED  PRICEEACH  ORDERLINENUMBER    SALES  \\\n",
      "0        10107               30      95.70                2  2871.00   \n",
      "1        10121               34      81.35                5  2765.90   \n",
      "2        10134               41      94.74                2  3884.34   \n",
      "3        10145               45      83.26                6  3746.70   \n",
      "4        10159               49     100.00               14  5205.27   \n",
      "\n",
      "         ORDERDATE   STATUS  QTR_ID  MONTH_ID  YEAR_ID  ...  \\\n",
      "0   2/24/2003 0:00  Shipped       1         2     2003  ...   \n",
      "1    5/7/2003 0:00  Shipped       2         5     2003  ...   \n",
      "2    7/1/2003 0:00  Shipped       3         7     2003  ...   \n",
      "3   8/25/2003 0:00  Shipped       3         8     2003  ...   \n",
      "4  10/10/2003 0:00  Shipped       4        10     2003  ...   \n",
      "\n",
      "                    ADDRESSLINE1  ADDRESSLINE2           CITY STATE  \\\n",
      "0        897 Long Airport Avenue           NaN            NYC    NY   \n",
      "1             59 rue de l'Abbaye           NaN          Reims   NaN   \n",
      "2  27 rue du Colonel Pierre Avia           NaN          Paris   NaN   \n",
      "3             78934 Hillside Dr.           NaN       Pasadena    CA   \n",
      "4                7734 Strong St.           NaN  San Francisco    CA   \n",
      "\n",
      "  POSTALCODE COUNTRY TERRITORY CONTACTLASTNAME CONTACTFIRSTNAME DEALSIZE  \n",
      "0      10022     USA       NaN              Yu             Kwai    Small  \n",
      "1      51100  France      EMEA         Henriot             Paul    Small  \n",
      "2      75508  France      EMEA        Da Cunha           Daniel   Medium  \n",
      "3      90003     USA       NaN           Young            Julie   Medium  \n",
      "4        NaN     USA       NaN           Brown            Julie   Medium  \n",
      "\n",
      "[5 rows x 25 columns]\n"
     ]
    }
   ],
   "source": [
    "# Load the dataset\n",
    "df = pd.read_csv(\"C:/Users/yashr/OneDrive/Desktop/Sem 7 LA's/ML Lab Datasets/sales_data_sample.csv\", encoding='ISO-8859-1')\n",
    "print(df.head())"
   ]
  },
  {
   "cell_type": "code",
   "execution_count": 4,
   "metadata": {},
   "outputs": [
    {
     "name": "stderr",
     "output_type": "stream",
     "text": [
      "C:\\Users\\yashr\\anaconda3\\lib\\site-packages\\pandas\\core\\generic.py:6392: SettingWithCopyWarning: \n",
      "A value is trying to be set on a copy of a slice from a DataFrame\n",
      "\n",
      "See the caveats in the documentation: https://pandas.pydata.org/pandas-docs/stable/user_guide/indexing.html#returning-a-view-versus-a-copy\n",
      "  return self._update_inplace(result)\n"
     ]
    }
   ],
   "source": [
    "# Preprocessing the data: Drop any unnecessary columns (if needed)\n",
    "# Assuming we focus on numerical columns for clustering\n",
    "df_numeric = df.select_dtypes(include=[np.number])\n",
    "\n",
    "# Handling missing values (if any)\n",
    "df_numeric.fillna(df_numeric.mean(), inplace=True)\n",
    "\n",
    "# Standardize the data\n",
    "scaler = StandardScaler()\n",
    "df_scaled = scaler.fit_transform(df_numeric)\n",
    "\n",
    "# Determine the optimal number of clusters using the Elbow Method\n",
    "inertia = []  # To store the sum of squared distances (inertia)\n",
    "K = range(1, 11)  # Checking for 1 to 10 clusters, can adjust range if needed\n",
    "\n",
    "for k in K:\n",
    "    kmeans = KMeans(n_clusters=k, random_state=42)\n",
    "    kmeans.fit(df_scaled)  # Fit KMeans on the scaled data\n",
    "    inertia.append(kmeans.inertia_)  # Append the inertia for each k"
   ]
  },
  {
   "cell_type": "code",
   "execution_count": 5,
   "metadata": {},
   "outputs": [
    {
     "name": "stdout",
     "output_type": "stream",
     "text": [
      "Number of clusters (k) vs Inertia:\n",
      "k=1, Inertia=25407.000000000025\n",
      "k=2, Inertia=20090.887012173396\n",
      "k=3, Inertia=16909.359547832428\n",
      "k=4, Inertia=14818.012273279483\n",
      "k=5, Inertia=13538.053695079556\n",
      "k=6, Inertia=12546.48737572928\n",
      "k=7, Inertia=11748.807707831875\n",
      "k=8, Inertia=11070.276338281923\n",
      "k=9, Inertia=10604.187215278282\n",
      "k=10, Inertia=10052.579987276273\n"
     ]
    }
   ],
   "source": [
    "# Print the inertia values for each number of clusters\n",
    "print(\"Number of clusters (k) vs Inertia:\")\n",
    "for i, val in enumerate(inertia, 1):\n",
    "    print(f\"k={i}, Inertia={val}\")"
   ]
  },
  {
   "cell_type": "code",
   "execution_count": 6,
   "metadata": {},
   "outputs": [
    {
     "name": "stdout",
     "output_type": "stream",
     "text": [
      "\n",
      "Percentage change in inertia between successive cluster counts:\n",
      "k=2 vs k=1: 20.92% change\n",
      "k=3 vs k=2: 15.84% change\n",
      "k=4 vs k=3: 12.37% change\n",
      "k=5 vs k=4: 8.64% change\n",
      "k=6 vs k=5: 7.32% change\n",
      "k=7 vs k=6: 6.36% change\n",
      "k=8 vs k=7: 5.78% change\n",
      "k=9 vs k=8: 4.21% change\n",
      "k=10 vs k=9: 5.20% change\n"
     ]
    }
   ],
   "source": [
    "# Calculate and print percentage change between successive inertia values\n",
    "print(\"\\nPercentage change in inertia between successive cluster counts:\")\n",
    "percentage_changes = []  # To store percentage changes\n",
    "\n",
    "for i in range(1, len(inertia)):\n",
    "    change = ((inertia[i-1] - inertia[i]) / inertia[i-1]) * 100\n",
    "    percentage_changes.append(change)\n",
    "    print(f\"k={i+1} vs k={i}: {change:.2f}% change\")"
   ]
  },
  {
   "cell_type": "code",
   "execution_count": 7,
   "metadata": {},
   "outputs": [
    {
     "name": "stdout",
     "output_type": "stream",
     "text": [
      "\n",
      "The optimal number of clusters based on the Elbow Method is: 9\n"
     ]
    }
   ],
   "source": [
    "# Determine the elbow point where the percentage change starts leveling off\n",
    "# You can determine the \"elbow\" as the cluster with the biggest percentage drop\n",
    "optimal_k = 1 + np.argmax(np.diff(percentage_changes)) + 1\n",
    "print(f\"\\nThe optimal number of clusters based on the Elbow Method is: {optimal_k}\")"
   ]
  },
  {
   "cell_type": "code",
   "execution_count": 8,
   "metadata": {},
   "outputs": [
    {
     "data": {
      "image/png": "[encoded data removed]",
      "text/plain": [
       "<Figure size 576x360 with 1 Axes>"
      ]
     },
     "metadata": {
      "needs_background": "light"
     },
     "output_type": "display_data"
    }
   ],
   "source": [
    "# Plot the Elbow Method graph (visualization)\n",
    "plt.figure(figsize=(8, 5))\n",
    "plt.plot(K, inertia, 'bx-')  # Plot number of clusters vs. inertia\n",
    "plt.xlabel('Number of clusters (k)')\n",
    "plt.ylabel('Inertia')\n",
    "plt.title('Elbow Method to Determine Optimal k')\n",
    "plt.show()\n"
   ]
  },
  {
   "cell_type": "code",
   "execution_count": 9,
   "metadata": {},
   "outputs": [],
   "source": [
    "# Fit the K-Means model with the optimal number of clusters (e.g., k=3 or k=4 based on the graph)\n",
    "optimal_k = 4  # This value should be chosen based on the elbow plot\n",
    "kmeans = KMeans(n_clusters=optimal_k, random_state=42)\n",
    "df['Cluster'] = kmeans.fit_predict(df_scaled)"
   ]
  },
  {
   "cell_type": "code",
   "execution_count": 10,
   "metadata": {},
   "outputs": [
    {
     "name": "stdout",
     "output_type": "stream",
     "text": [
      "   ORDERNUMBER  QUANTITYORDERED  PRICEEACH  ORDERLINENUMBER    SALES  \\\n",
      "0        10107               30      95.70                2  2871.00   \n",
      "1        10121               34      81.35                5  2765.90   \n",
      "2        10134               41      94.74                2  3884.34   \n",
      "3        10145               45      83.26                6  3746.70   \n",
      "4        10159               49     100.00               14  5205.27   \n",
      "\n",
      "         ORDERDATE   STATUS  QTR_ID  MONTH_ID  YEAR_ID  ... ADDRESSLINE2  \\\n",
      "0   2/24/2003 0:00  Shipped       1         2     2003  ...          NaN   \n",
      "1    5/7/2003 0:00  Shipped       2         5     2003  ...          NaN   \n",
      "2    7/1/2003 0:00  Shipped       3         7     2003  ...          NaN   \n",
      "3   8/25/2003 0:00  Shipped       3         8     2003  ...          NaN   \n",
      "4  10/10/2003 0:00  Shipped       4        10     2003  ...          NaN   \n",
      "\n",
      "            CITY STATE POSTALCODE COUNTRY TERRITORY CONTACTLASTNAME  \\\n",
      "0            NYC    NY      10022     USA       NaN              Yu   \n",
      "1          Reims   NaN      51100  France      EMEA         Henriot   \n",
      "2          Paris   NaN      75508  France      EMEA        Da Cunha   \n",
      "3       Pasadena    CA      90003     USA       NaN           Young   \n",
      "4  San Francisco    CA        NaN     USA       NaN           Brown   \n",
      "\n",
      "  CONTACTFIRSTNAME DEALSIZE Cluster  \n",
      "0             Kwai    Small       3  \n",
      "1             Paul    Small       3  \n",
      "2           Daniel   Medium       3  \n",
      "3            Julie   Medium       1  \n",
      "4            Julie   Medium       1  \n",
      "\n",
      "[5 rows x 26 columns]\n"
     ]
    }
   ],
   "source": [
    "# Preview the clustered data\n",
    "print(df.head())"
   ]
  },
  {
   "cell_type": "code",
   "execution_count": 11,
   "metadata": {},
   "outputs": [
    {
     "name": "stdout",
     "output_type": "stream",
     "text": [
      "Cluster Centers: [[-8.79452922e-02 -2.04942174e-01 -1.02193170e+00  6.76607343e-02\n",
      "  -8.08020189e-01  6.74852743e-01  6.79762481e-01 -3.21883053e-01\n",
      "  -8.53133572e-01]\n",
      " [-7.39254350e-02  8.08097880e-02  7.16791019e-01  1.36182647e-02\n",
      "   6.04731788e-01  7.57193350e-01  7.49167787e-01 -3.54769682e-01\n",
      "   6.67607982e-01]\n",
      " [ 1.45077838e+00  1.84002074e-01 -1.05743987e-02 -1.16770793e-01\n",
      "   1.05341831e-01 -1.12113883e+00 -1.11881261e+00  1.69382614e+00\n",
      "  -1.36430064e-02]\n",
      " [-8.44055867e-01 -2.14711848e-02  1.13168816e-01 -1.02269988e-02\n",
      "  -4.70650200e-02 -1.02419040e+00 -1.01980886e+00 -3.57568434e-01\n",
      "  -1.26673121e-03]]\n"
     ]
    }
   ],
   "source": [
    "# To show cluster centroids (optional)\n",
    "print(\"Cluster Centers:\", kmeans.cluster_centers_)"
   ]
  },
  {
   "cell_type": "code",
   "execution_count": null,
   "metadata": {},
   "outputs": [],
   "source": []
  },
  {
   "cell_type": "code",
   "execution_count": null,
   "metadata": {},
   "outputs": [],
   "source": []
  },
  {
   "cell_type": "code",
   "execution_count": null,
   "metadata": {},
   "outputs": [],
   "source": []
  }
 ],
 "metadata": {
  "kernelspec": {
   "display_name": "Python 3 (ipykernel)",
   "language": "python",
   "name": "python3"
  },
  "language_info": {
   "codemirror_mode": {
    "name": "ipython",
    "version": 3
   },
   "file_extension": ".py",
   "mimetype": "text/x-python",
   "name": "python",
   "nbconvert_exporter": "python",
   "pygments_lexer": "ipython3",
   "version": "3.9.7"
  }
 },
 "nbformat": 4,
 "nbformat_minor": 4
}
